{
  "metadata": {
    "language_info": {
      "codemirror_mode": {
        "name": "python",
        "version": 3
      },
      "file_extension": ".py",
      "mimetype": "text/x-python",
      "name": "python",
      "nbconvert_exporter": "python",
      "pygments_lexer": "ipython3",
      "version": "3.8"
    },
    "kernelspec": {
      "name": "python",
      "display_name": "Python (Pyodide)",
      "language": "python"
    }
  },
  "nbformat_minor": 4,
  "nbformat": 4,
  "cells": [
    {
      "cell_type": "code",
      "source": "#No.1\nradius = int(input(\"Input the radius of a circle: \"))\narea = 22/7*radius**2\n\nprint (area)",
      "metadata": {},
      "execution_count": null,
      "outputs": []
    },
    {
      "cell_type": "code",
      "source": "#No.2\nfirst = input(\"Enter your first name: \")\nlast = input(\"Enter your last name: \")\n\nprint (last,first)",
      "metadata": {},
      "execution_count": null,
      "outputs": []
    },
    {
      "cell_type": "code",
      "source": "#No.3\ncolor_list = [\"Red\",\"Green\",\"White\",\"Black\"]\n\nprint (\"The first color is\",color_list[0],\"and the last color is\",color_list[-1])",
      "metadata": {},
      "execution_count": null,
      "outputs": []
    },
    {
      "cell_type": "code",
      "source": "#No.4\nn = int(input(\"Enter an integer: \"))\nprint(n+n**2+n**3)",
      "metadata": {},
      "execution_count": null,
      "outputs": []
    },
    {
      "cell_type": "code",
      "source": "#No.5\nr = 3\nvol = 4/3*22/7*r\n\nprint (vol)",
      "metadata": {},
      "execution_count": null,
      "outputs": []
    },
    {
      "cell_type": "code",
      "source": "#No.6\ni = int(input(\"Enter a number: \"))\nabs_diff = abs(17-i)\nif abs_diff > 17 :\n    abs_diff = 2*abs_diff\nprint (f\"The absolute difference between {i} and 17 is {abs_diff}\")",
      "metadata": {},
      "execution_count": null,
      "outputs": []
    },
    {
      "cell_type": "code",
      "source": "#No.7\na,b,c = eval(input(\"Give three numbers seperated with commas: \"))\nsum = a+b+c\nif a == b == c :\n    sum = 3*sum\n    print(\"The three numbers are equal hence the triple of the sum is:\", sum)\nprint(\"The sum of the three numbers is \")",
      "metadata": {},
      "execution_count": null,
      "outputs": []
    },
    {
      "cell_type": "code",
      "source": "#No.8\ni = int(input(\"Enter a number: \"))\nif i % 2==0:\n    print (f\"{i} is even\")\nelse:\n    print(f\"{i} is odd\")",
      "metadata": {},
      "execution_count": null,
      "outputs": []
    },
    {
      "cell_type": "code",
      "source": "#No.9\nletter = str(input(\"enter a letter: \"))\nletter = letter.lower()\nvowel = ['a', 'i', 'u', 'e', 'o']\nif letter == 'a' or letter == 'i' or letter == 'u' or letter == 'e' or letter == 'o':\n    print(f\"{letter} is a vowel\")\n ",
      "metadata": {},
      "execution_count": null,
      "outputs": []
    },
    {
      "cell_type": "code",
      "source": "#No.10\nlist = [11, 5, 14, 14, 5, 20, 8]\nnum = int(input(\"Enter a number: \"))\nflag = False\nfor i in list:\n    if num == i:\n        flag = True\nif flag:\n    print(\"The number is in the list\")\nelse:\n    print(\"The number is not in the list\")",
      "metadata": {},
      "execution_count": null,
      "outputs": []
    },
    {
      "cell_type": "code",
      "source": "#No.11\nlist = [11, 5, 14, 14, 5, 20, 8]\nnum = int(input(\"Enter a number: \"))\nflag = False\nfor i in list:\n    if num == i:\n        flag = True\nif flag:\n    print(\"The number is in the list\")\nelse:\n    print(\"The number is not in the list\")",
      "metadata": {},
      "execution_count": null,
      "outputs": []
    },
    {
      "cell_type": "code",
      "source": "#No.12\nnumbers = [386, 462, 47, 418, 907, 344, 236, 375, 823, 566, 597, 978, 328, 615, 953, 345,\n399, 162, 758, 219, 918, 237, 412, 566, 826, 248, 866, 950, 626, 949, 687, 217,\n815, 67, 104, 58, 512, 24, 892, 894, 767, 553, 81, 379, 843, 831, 445, 742, 717,\n958,743, 527]\nfor i in numbers:\n    if i % 2 == 1 :\n        print(i)",
      "metadata": {},
      "execution_count": null,
      "outputs": []
    },
    {
      "cell_type": "code",
      "source": "#No.13\nbase = int(input(\"Enter the base of a triangle: \"))\nheight = int(input(\"Enter the height of a triangle: \"))\narea = 1/2 * base * height\n\nprint(f\"The area of the triangle is {area}\")\n\n",
      "metadata": {},
      "execution_count": null,
      "outputs": []
    },
    {
      "cell_type": "code",
      "source": "#No.14\nnum_1 = int(input(\"Enter a number: \"))\nnum_2 = int(input(\"Enter a second number: \"))\nmulti_1 = num_1\nmulti_2 = num_2\n\nwhile num_1 != num_2 :\n    if num_1 < num_2 :\n        num_1 += multi_1\n    elif num_1 > num_2 :\n        num_2 += multi_2\nprint (\"The lcm of the two numbers is\", num_1)\n",
      "metadata": {},
      "execution_count": null,
      "outputs": []
    },
    {
      "cell_type": "code",
      "source": "#No.15\nnum_1 = int(input(\"Enter a number: \"))\nnum_2 = int(input(\"Enter a second number: \"))\nnum_3 = int(input(\"Enter a third number: \"))\nsum = num_1 + num_2 + num_3\nif num_1 == num_2 or num_1 == num_3 or num_2 == num_3 :\n    sum = 0\nprint (\"The sum of the three numbers is\", sum)\n",
      "metadata": {},
      "execution_count": null,
      "outputs": []
    },
    {
      "cell_type": "code",
      "source": "#No.16\nx = int(input(\"Enter an integer for x: \"))\ny = int(input(\"Enter an integer for y :\"))\nresult = (x+y)**2\n\nprint(f\"({x} + {y})^2 = {result}\")",
      "metadata": {},
      "execution_count": null,
      "outputs": []
    },
    {
      "cell_type": "code",
      "source": "#No.17\namt = int(input(\"Enter an amount: \"))\ninter = float(input(\"Enter the rate of interest: \"))\nyear = int(input(\"Enter the number of years: \"))\ni = 0\nwhile i != year:\n    amt = amt + inter/100*amt\n    i += 1\namt = \"{:.2f}\".format(amt)\nprint (amt)",
      "metadata": {},
      "execution_count": null,
      "outputs": []
    },
    {
      "cell_type": "code",
      "source": "#No.18\nimport math\n\nx1, y1 = eval(input(\"Enter a point (x, y): \"))\nx2, y2 = eval(input(\"Enter a second point (x,y): \"))\ndistance_x = abs(x2-x1)\ndistance_y = abs(y2-y1)\ndistance = (distance_x)**2+(distance_y)**2\n\nprint (\"The distance between the two points is\", math.sqrt(distance))",
      "metadata": {},
      "execution_count": null,
      "outputs": []
    },
    {
      "cell_type": "code",
      "source": "#No.19\nn = int(input(\"Enter a number: \"))\nsum = n/2 * (1+n)\nprint (sum)",
      "metadata": {},
      "execution_count": null,
      "outputs": []
    },
    {
      "cell_type": "code",
      "source": "#No.20\nfeet,inch = eval(input(\"Enter your height in (foot,inches) seperated by commas: \"))\nheight = feet * 30.48 + inch * 2.54\n\nprint (\"Your height in centimeter is\", height)",
      "metadata": {},
      "execution_count": null,
      "outputs": []
    },
    {
      "cell_type": "code",
      "source": "#No.21\nimport math\n\nbase = int(input(\"Enter the base of the right angled triangle: \"))\nheight = int(input(\"Enter the height of the right angled triangle: \"))\nhyp = base**2 + height**2\n\nprint(\"The hypotenuse of the right angled triangle is\", math.sqrt(hyp))",
      "metadata": {},
      "execution_count": null,
      "outputs": []
    },
    {
      "cell_type": "code",
      "source": "#No.22\nheight = int(input(\"Enter your height in centimeters: \"))\nweight = int(input(\"Enter your weight in kilograms: \"))\nbmi = weight/((height/100)**2)\n\nprint(\"Your bmi is\", bmi)",
      "metadata": {},
      "execution_count": null,
      "outputs": []
    },
    {
      "cell_type": "code",
      "source": "#No.23\nx1,y1 = eval(input(\"Enter the coordinate of the first point of a line (x1,y1): \"))\nx2,y2 = eval(input(\"Enter the coordinate of the second point of a line (x2,y2): \"))\n\nx_mid = (x1+x2)/2\ny_mid = (y1+y2)/2\n\nprint(f\"The midpoint of the line is ({x_mid}, {y_mid})\")",
      "metadata": {},
      "execution_count": null,
      "outputs": []
    },
    {
      "cell_type": "code",
      "source": "#No.24\nfor n in range(2000, 3201):\n    if n % 7 == 0 and not n % 5 == 0:\n        print(n, end=\",\")",
      "metadata": {},
      "execution_count": null,
      "outputs": []
    }
  ]
}