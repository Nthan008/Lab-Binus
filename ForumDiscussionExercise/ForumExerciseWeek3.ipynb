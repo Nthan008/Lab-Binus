{
  "cells": [
    {
      "cell_type": "code",
      "execution_count": null,
      "metadata": {},
      "outputs": [],
      "source": [
        "#No.1\n",
        "radius = int(input(\"Input the radius of a circle: \"))\n",
        "area = 22/7*radius**2\n",
        "\n",
        "print (area)"
      ]
    },
    {
      "cell_type": "code",
      "execution_count": null,
      "metadata": {},
      "outputs": [],
      "source": [
        "#No.2\n",
        "first = input(\"Enter your first name: \")\n",
        "last = input(\"Enter your last name: \")\n",
        "\n",
        "print (last,first)"
      ]
    },
    {
      "cell_type": "code",
      "execution_count": null,
      "metadata": {},
      "outputs": [],
      "source": [
        "#No.3\n",
        "color_list = [\"Red\",\"Green\",\"White\",\"Black\"]\n",
        "\n",
        "print (\"The first color is\",color_list[0],\"and the last color is\",color_list[-1])"
      ]
    },
    {
      "cell_type": "code",
      "execution_count": null,
      "metadata": {},
      "outputs": [],
      "source": [
        "#No.4\n",
        "n = int(input(\"Enter an integer: \"))\n",
        "print(n+n**2+n**3)"
      ]
    },
    {
      "cell_type": "code",
      "execution_count": null,
      "metadata": {},
      "outputs": [],
      "source": [
        "#No.5\n",
        "r = 3\n",
        "vol = 4/3*22/7*r\n",
        "\n",
        "print (vol)"
      ]
    },
    {
      "cell_type": "code",
      "execution_count": null,
      "metadata": {},
      "outputs": [],
      "source": [
        "#No.6\n",
        "i = int(input(\"Enter a number: \"))\n",
        "abs_diff = abs(17-i)\n",
        "if abs_diff > 17 :\n",
        "    abs_diff = 2*abs_diff\n",
        "print (f\"The absolute difference between {i} and 17 is {abs_diff}\")"
      ]
    },
    {
      "cell_type": "code",
      "execution_count": null,
      "metadata": {},
      "outputs": [],
      "source": [
        "#No.7\n",
        "a,b,c = eval(input(\"Give three numbers seperated with commas: \"))\n",
        "sum = a+b+c\n",
        "if a == b == c :\n",
        "    sum = 3*sum\n",
        "    print(\"The three numbers are equal hence the triple of the sum is:\", sum)\n",
        "print(\"The sum of the three numbers is \")"
      ]
    },
    {
      "cell_type": "code",
      "execution_count": null,
      "metadata": {},
      "outputs": [],
      "source": [
        "#No.8\n",
        "i = int(input(\"Enter a number: \"))\n",
        "if i % 2==0:\n",
        "    print (f\"{i} is even\")\n",
        "else:\n",
        "    print(f\"{i} is odd\")"
      ]
    },
    {
      "cell_type": "code",
      "execution_count": null,
      "metadata": {},
      "outputs": [],
      "source": [
        "#No.9\n",
        "letter = str(input(\"enter a letter: \"))\n",
        "letter = letter.lower()\n",
        "vowel = ['a', 'i', 'u', 'e', 'o']\n",
        "if letter == 'a' or letter == 'i' or letter == 'u' or letter == 'e' or letter == 'o':\n",
        "    print(f\"{letter} is a vowel\")\n",
        " "
      ]
    },
    {
      "cell_type": "code",
      "execution_count": null,
      "metadata": {},
      "outputs": [],
      "source": [
        "list = [11, 5, 14, 14, 5, 20, 8]\n",
        "num = int(input(\"Enter a number: \"))\n",
        "flag = False\n",
        "for i in list:\n",
        "    if num == i:\n",
        "        flag = True\n",
        "if flag:\n",
        "    print(\"The number is in the list\")\n",
        "else:\n",
        "    print(\"The number is not in the list\")"
      ]
    },
    {
      "cell_type": "code",
      "execution_count": null,
      "metadata": {},
      "outputs": [],
      "source": [
        "#No.11\n",
        "numbers = [0, 1, 1, 1, 2, 3, 7, 7, 23]\n",
        "histogram = {}\n",
        "for i in numbers:\n",
        "    histogram[i] = histogram.get(i, 0) + 1\n",
        "print(histogram)"
      ]
    },
    {
      "cell_type": "code",
      "execution_count": null,
      "metadata": {},
      "outputs": [],
      "source": [
        "#No.12\n",
        "numbers = [386, 462, 47, 418, 907, 344, 236, 375, 823, 566, 597, 978, 328, 615, 953, 345,\n",
        "399, 162, 758, 219, 918, 237, 412, 566, 826, 248, 866, 950, 626, 949, 687, 217,\n",
        "815, 67, 104, 58, 512, 24, 892, 894, 767, 553, 81, 379, 843, 831, 445, 742, 717,\n",
        "958,743, 527]\n",
        "for i in numbers:\n",
        "    if i % 2 == 1 :\n",
        "        print(i)"
      ]
    },
    {
      "cell_type": "code",
      "execution_count": null,
      "metadata": {},
      "outputs": [],
      "source": [
        "#No.13\n",
        "base = int(input(\"Enter the base of a triangle: \"))\n",
        "height = int(input(\"Enter the height of a triangle: \"))\n",
        "area = 1/2 * base * height\n",
        "\n",
        "print(f\"The area of the triangle is {area}\")\n",
        "\n"
      ]
    },
    {
      "cell_type": "code",
      "execution_count": null,
      "metadata": {},
      "outputs": [],
      "source": [
        "#No.14\n",
        "num_1 = int(input(\"Enter a number: \"))\n",
        "num_2 = int(input(\"Enter a second number: \"))\n",
        "multi_1 = num_1\n",
        "multi_2 = num_2\n",
        "\n",
        "while num_1 != num_2 :\n",
        "    if num_1 < num_2 :\n",
        "        num_1 += multi_1\n",
        "    elif num_1 > num_2 :\n",
        "        num_2 += multi_2\n",
        "print (\"The lcm of the two numbers is\", num_1)\n"
      ]
    },
    {
      "cell_type": "code",
      "execution_count": null,
      "metadata": {},
      "outputs": [],
      "source": [
        "#No.15\n",
        "num_1 = int(input(\"Enter a number: \"))\n",
        "num_2 = int(input(\"Enter a second number: \"))\n",
        "num_3 = int(input(\"Enter a third number: \"))\n",
        "sum = num_1 + num_2 + num_3\n",
        "if num_1 == num_2 or num_1 == num_3 or num_2 == num_3 :\n",
        "    sum = 0\n",
        "print (\"The sum of the three numbers is\", sum)\n"
      ]
    },
    {
      "cell_type": "code",
      "execution_count": null,
      "metadata": {},
      "outputs": [],
      "source": [
        "#No.16\n",
        "x = int(input(\"Enter an integer for x: \"))\n",
        "y = int(input(\"Enter an integer for y :\"))\n",
        "result = (x+y)**2\n",
        "\n",
        "print(f\"({x} + {y})^2 = {result}\")"
      ]
    },
    {
      "cell_type": "code",
      "execution_count": null,
      "metadata": {},
      "outputs": [],
      "source": [
        "#No.17\n",
        "amt = int(input(\"Enter an amount: \"))\n",
        "inter = float(input(\"Enter the rate of interest: \"))\n",
        "year = int(input(\"Enter the number of years: \"))\n",
        "i = 0\n",
        "while i != year:\n",
        "    amt = amt + inter/100*amt\n",
        "    i += 1\n",
        "amt = \"{:.2f}\".format(amt)\n",
        "print (amt)"
      ]
    },
    {
      "cell_type": "code",
      "execution_count": null,
      "metadata": {},
      "outputs": [],
      "source": [
        "#No.18\n",
        "import math\n",
        "\n",
        "x1, y1 = eval(input(\"Enter a point (x, y): \"))\n",
        "x2, y2 = eval(input(\"Enter a second point (x,y): \"))\n",
        "distance_x = abs(x2-x1)\n",
        "distance_y = abs(y2-y1)\n",
        "distance = (distance_x)**2+(distance_y)**2\n",
        "\n",
        "print (\"The distance between the two points is\", math.sqrt(distance))"
      ]
    },
    {
      "cell_type": "code",
      "execution_count": null,
      "metadata": {},
      "outputs": [],
      "source": [
        "#No.19\n",
        "n = int(input(\"Enter a number: \"))\n",
        "sum = n/2 * (1+n)\n",
        "print (sum)"
      ]
    },
    {
      "cell_type": "code",
      "execution_count": null,
      "metadata": {},
      "outputs": [],
      "source": [
        "#No.20\n",
        "feet,inch = eval(input(\"Enter your height in (foot,inches) seperated by commas: \"))\n",
        "height = feet * 30.48 + inch * 2.54\n",
        "\n",
        "print (\"Your height in centimeter is\", height)"
      ]
    },
    {
      "cell_type": "code",
      "execution_count": null,
      "metadata": {},
      "outputs": [],
      "source": [
        "#No.21\n",
        "import math\n",
        "\n",
        "base = int(input(\"Enter the base of the right angled triangle: \"))\n",
        "height = int(input(\"Enter the height of the right angled triangle: \"))\n",
        "hyp = base**2 + height**2\n",
        "\n",
        "print(\"The hypotenuse of the right angled triangle is\", math.sqrt(hyp))"
      ]
    },
    {
      "cell_type": "code",
      "execution_count": null,
      "metadata": {},
      "outputs": [],
      "source": [
        "#No.22\n",
        "height = int(input(\"Enter your height in centimeters: \"))\n",
        "weight = int(input(\"Enter your weight in kilograms: \"))\n",
        "bmi = weight/((height/100)**2)\n",
        "\n",
        "print(\"Your bmi is\", bmi)"
      ]
    },
    {
      "cell_type": "code",
      "execution_count": null,
      "metadata": {},
      "outputs": [],
      "source": [
        "#No.23\n",
        "x1,y1 = eval(input(\"Enter the coordinate of the first point of a line (x1,y1): \"))\n",
        "x2,y2 = eval(input(\"Enter the coordinate of the second point of a line (x2,y2): \"))\n",
        "\n",
        "x_mid = (x1+x2)/2\n",
        "y_mid = (y1+y2)/2\n",
        "\n",
        "print(f\"The midpoint of the line is ({x_mid}, {y_mid})\")"
      ]
    },
    {
      "cell_type": "code",
      "execution_count": null,
      "metadata": {},
      "outputs": [],
      "source": [
        "#No.24\n",
        "for n in range(2000, 3201):\n",
        "    if n % 7 == 0 and not n % 5 == 0:\n",
        "        print(n, end=\",\")"
      ]
    }
  ],
  "metadata": {
    "kernelspec": {
      "display_name": "Python 3.10.7 ('venv': venv)",
      "language": "python",
      "name": "python3"
    },
    "language_info": {
      "codemirror_mode": {
        "name": "python",
        "version": 3
      },
      "file_extension": ".py",
      "mimetype": "text/x-python",
      "name": "python",
      "nbconvert_exporter": "python",
      "pygments_lexer": "ipython3",
      "version": "3.10.7"
    },
    "vscode": {
      "interpreter": {
        "hash": "77b6d07186b4dbbc87c625f63b5f9d071233e6f6bf007f282f2c0d8bcb707f0a"
      }
    }
  },
  "nbformat": 4,
  "nbformat_minor": 4
}
