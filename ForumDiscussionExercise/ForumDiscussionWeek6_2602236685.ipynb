{
  "metadata": {
    "language_info": {
      "codemirror_mode": {
        "name": "python",
        "version": 3
      },
      "file_extension": ".py",
      "mimetype": "text/x-python",
      "name": "python",
      "nbconvert_exporter": "python",
      "pygments_lexer": "ipython3",
      "version": "3.8"
    },
    "kernelspec": {
      "name": "python",
      "display_name": "Python (Pyodide)",
      "language": "python"
    }
  },
  "nbformat_minor": 4,
  "nbformat": 4,
  "cells": [
    {
      "cell_type": "code",
      "source": "## Exercise 1\ninventory = {\n 'gold' : 500,\n 'pouch' : ['flint', 'twine', 'gemstone'],\n 'backpack' : ['xylophone','dagger', 'bedroll','bread loaf']\n}\n\ninventory['pocket'] = ['seashell', 'strange berry', 'lint']\nbackpacks = inventory['backpack']\nbackpacks.sort()\nbackpacks.remove('dagger')\ninventory['backpack'] = backpacks\ninventory['gold'] += 50\nprint(inventory)",
      "metadata": {},
      "execution_count": null,
      "outputs": []
    },
    {
      "cell_type": "code",
      "source": "## Exercise 2\nstock = {\n\"banana\": 6,\n\"apple\": 0,\n\"orange\": 32,\n\"pear\": 15\n}\nprices = {\"banana\": 4, \"apple\": 2, \"orange\": 1.5, \"pear\": 3}\ntotal = 0\nfor i in prices:\n    print(i)\n    print('price:', prices[i])\n    print('stock:', stock[i])\n    total += prices[i] * stock[i]\n\nprint(total)\n    \n    \n",
      "metadata": {
        "trusted": true
      },
      "execution_count": 4,
      "outputs": [
        {
          "name": "stdout",
          "text": "banana\nprice: 4\nstock: 6\napple\nprice: 2\nstock: 0\norange\nprice: 1.5\nstock: 32\npear\nprice: 3\nstock: 15\n117.0\n",
          "output_type": "stream"
        }
      ]
    },
    {
      "cell_type": "code",
      "source": "## Exercise 3\nstock = {\n\"banana\": 6,\n\"apple\": 0,\n\"orange\": 32,\n\"pear\": 15\n}\nprices = {\n\"banana\": 4,\n\"apple\": 2,\n\"orange\": 1.5,\n\"pear\": 3\n}\ndef compute_bill(food):\n    total = 0\n    for i in food:\n        if stock[i] > 0:\n            total += food[i]\n            stock[i] -= 1\n    return total\nprint(compute_bill(prices))\nprint(stock)\n        \n    \n        ",
      "metadata": {
        "trusted": true
      },
      "execution_count": 12,
      "outputs": [
        {
          "name": "stdout",
          "text": "8.5\n{'banana': 5, 'apple': 0, 'orange': 31, 'pear': 14}\n",
          "output_type": "stream"
        }
      ]
    },
    {
      "cell_type": "code",
      "source": "## Exercise 4\neren = {\n \"name\": \"Eren\",\n \"homework\": [90.0,97.0,75.0,92.0],\n \"quizzes\": [88.0,40.0,94.0],\n \"tests\": [75.0,90.0]\n}\nmikasa = {\n\"name\": \"Mikasa\",\n\"homework\": [100.0, 92.0, 98.0, 100.0],\n\"quizzes\": [82.0, 83.0, 91.0],\n\"tests\": [89.0, 97.0]\n}\narmin = {\n\"name\": \"Armin\",\n\"homework\": [0.0, 87.0, 75.0, 22.0],\n\"quizzes\": [0.0, 75.0, 78.0],\n\"tests\": [100.0, 100.0]\n}\nstudents = [eren, mikasa, armin]\nfor i in students:\n    print(i[\"name\"])\n    print(i[\"homework\"])\n    print(i[\"quizzes\"])\n    print(i[\"tests\"])\n\ndef average(numbers):\n    total = sum(numbers)\n    total = float(total)\n    return total / len(numbers)\n\ndef get_average(student):\n    homework = average(student[\"homework\"])\n    quizzes = average(student[\"quizzes\"])\n    tests = average(student[\"tests\"])\n    homework *= 1/10\n    quizzes *= 3/10\n    tests *= 3/5\n    return homework + quizzes + tests\n\ndef get_letter_grade(score):\n    if score >= 90:\n        return \"A\"\n    elif 80 <= score < 90:\n        return \"B\"\n    elif 70 <= score < 80:\n        return \"C\"\n    elif 60 <= score < 70:\n        return \"D\"\n    else:\n        return \"F\"\n\ndef get_class_average(students):\n    results = []\n    for i in students:\n        results.append(get_average(i))\n    return average(results)\n\nprint(get_class_average(students))\nprint(get_letter_grade(get_class_average(students)))",
      "metadata": {
        "trusted": true
      },
      "execution_count": 13,
      "outputs": [
        {
          "name": "stdout",
          "text": "Eren\n[90.0, 97.0, 75.0, 92.0]\n[88.0, 40.0, 94.0]\n[75.0, 90.0]\nMikasa\n[100.0, 92.0, 98.0, 100.0]\n[82.0, 83.0, 91.0]\n[89.0, 97.0]\nArmin\n[0.0, 87.0, 75.0, 22.0]\n[0.0, 75.0, 78.0]\n[100.0, 100.0]\n83.86666666666666\nB\n",
          "output_type": "stream"
        }
      ]
    },
    {
      "cell_type": "code",
      "source": "",
      "metadata": {},
      "execution_count": null,
      "outputs": []
    }
  ]
}